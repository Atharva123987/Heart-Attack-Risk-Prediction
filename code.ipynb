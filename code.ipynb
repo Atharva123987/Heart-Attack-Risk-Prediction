{
 "cells": [
  {
   "cell_type": "markdown",
   "metadata": {},
   "source": [
    "# IMPORTS"
   ]
  },
  {
   "cell_type": "code",
   "execution_count": null,
   "metadata": {},
   "outputs": [
    {
     "ename": "",
     "evalue": "",
     "output_type": "error",
     "traceback": [
      "\u001b[1;31mThe kernel failed to start as 'InterruptiblePdb' could not be imported from 'most likely due to a circular import'.\n",
      "\u001b[1;31mClick <a href='https://aka.ms/kernelFailuresModuleImportErrFromFile'>here</a> for more info."
     ]
    }
   ],
   "source": [
    "import pandas as pd\n",
    "import numpy as np\n",
    "import seaborn as sns\n",
    "import matplotlib.pyplot as plt\n",
    "from sklearn.preprocessing import LabelEncoder \n",
    "from sklearn.model_selection import train_test_split\n",
    "from sklearn.preprocessing import StandardScaler \n",
    "from sklearn.linear_model import LogisticRegression \n",
    "from sklearn.tree import DecisionTreeClassifier\n",
    "from sklearn.ensemble import RandomForestClassifier\n",
    "from sklearn.neighbors import KNeighborsClassifier\n",
    "from sklearn import svm\n",
    "from sklearn.svm import SVC\n",
    "from sklearn.metrics import accuracy_score\n"
   ]
  },
  {
   "cell_type": "markdown",
   "metadata": {},
   "source": [
    "# LOADING THE DATA"
   ]
  },
  {
   "cell_type": "code",
   "execution_count": null,
   "metadata": {},
   "outputs": [
    {
     "ename": "",
     "evalue": "",
     "output_type": "error",
     "traceback": [
      "\u001b[1;31mThe kernel failed to start as 'InterruptiblePdb' could not be imported from 'most likely due to a circular import'.\n",
      "\u001b[1;31mClick <a href='https://aka.ms/kernelFailuresModuleImportErrFromFile'>here</a> for more info."
     ]
    }
   ],
   "source": [
    "df= pd.read_csv(\"heart1.csv\")\n",
    "df= df.drop(['oldpeak','slp','thall'],axis=1)\n",
    "df.head()"
   ]
  },
  {
   "cell_type": "markdown",
   "metadata": {},
   "source": [
    "# STANDARDIZING THE DATA\n"
   ]
  },
  {
   "cell_type": "code",
   "execution_count": null,
   "metadata": {},
   "outputs": [],
   "source": [
    "scale=StandardScaler()\n",
    "scale.fit(df)\n",
    "df= scale.transform(df)\n",
    "df=pd.DataFrame(df,columns=['age', 'sex', 'cp', 'trtbps', 'chol', 'fbs', 'restecg', 'thalachh',\n",
    "       'exng', 'caa', 'output'])"
   ]
  },
  {
   "cell_type": "markdown",
   "metadata": {},
   "source": [
    "# SPLITTING DATA INTO TRAIN DATA AND TEST DATA"
   ]
  },
  {
   "cell_type": "code",
   "execution_count": null,
   "metadata": {},
   "outputs": [],
   "source": [
    "x= df.iloc[:,:-1]\n",
    "print(x)\n",
    "y= df.iloc[:,-1:]\n",
    "print(y)\n",
    "x_train, x_test, y_train, y_test = train_test_split(x, y, test_size=0.3, random_state=101)\n",
    "lbl= LabelEncoder()\n",
    "encoded_y= lbl.fit_transform(y_train)"
   ]
  },
  {
   "cell_type": "markdown",
   "metadata": {},
   "source": [
    "# LOGISTIC REGRESSION"
   ]
  },
  {
   "cell_type": "code",
   "execution_count": null,
   "metadata": {},
   "outputs": [],
   "source": [
    "logreg= LogisticRegression()\n",
    "logreg = LogisticRegression()\n",
    "logreg.fit(x_train, encoded_y)\n",
    "from sklearn.metrics import confusion_matrix\n",
    "encoded_ytest= lbl.fit_transform(y_test)\n",
    "Y_pred1 = logreg.predict(x_test)\n",
    "lr_conf_matrix = confusion_matrix(encoded_ytest,Y_pred1 )\n",
    "lr_acc_score = accuracy_score(encoded_ytest, Y_pred1)\n",
    "print(\"Logistic regression accuracy =\",lr_acc_score*100,\"%\") # Printing the accuracy\n",
    "print(lr_conf_matrix) # Printing the confusion matrix"
   ]
  },
  {
   "cell_type": "markdown",
   "metadata": {},
   "source": [
    "\n",
    "# DECISION TREE CLASSIFICATION ALGO"
   ]
  },
  {
   "cell_type": "code",
   "execution_count": null,
   "metadata": {},
   "outputs": [],
   "source": [
    "tree= DecisionTreeClassifier()\n",
    "tree.fit(x_train,encoded_y)\n",
    "ypred2=tree.predict(x_test)\n",
    "encoded_ytest= lbl.fit_transform(y_test)\n",
    "tree_conf_matrix = confusion_matrix(encoded_ytest,ypred2 )\n",
    "tree_acc_score = accuracy_score(encoded_ytest, ypred2)\n",
    "print(\"Decision tree accuracy =\",tree_acc_score*100,\"%\") # Printing the accuracy\n",
    "print(tree_conf_matrix) # Printing the confusion matrix"
   ]
  },
  {
   "cell_type": "markdown",
   "metadata": {},
   "source": [
    "# RANDOM FOREST ALGO"
   ]
  },
  {
   "cell_type": "code",
   "execution_count": null,
   "metadata": {},
   "outputs": [],
   "source": [
    "rf= RandomForestClassifier()\n",
    "rf.fit(x_train,encoded_y)\n",
    "ypred3 = rf.predict(x_test)\n",
    "rf_conf_matrix = confusion_matrix(encoded_ytest,ypred3 )\n",
    "rf_acc_score = accuracy_score(encoded_ytest, ypred3)\n",
    "rf_conf_matrix = confusion_matrix(encoded_ytest,ypred3 )\n",
    "rf_acc_score = accuracy_score(encoded_ytest, ypred3)\n",
    "print(\"Random forest accuracy =\",rf_acc_score*100,\"%\") # Printing the accuracy\n",
    "print(rf_conf_matrix) # Printing the confusion matrix"
   ]
  },
  {
   "cell_type": "markdown",
   "metadata": {},
   "source": [
    "# K-NEAREST NEIGHBOUR ALGO"
   ]
  },
  {
   "cell_type": "code",
   "execution_count": null,
   "metadata": {},
   "outputs": [],
   "source": [
    "error_rate= []\n",
    "for i in range(1,40):\n",
    "    knn= KNeighborsClassifier(n_neighbors=i)\n",
    "    knn.fit(x_train,encoded_y)\n",
    "    pred= knn.predict(x_test)\n",
    "    error_rate.append(np.mean(pred != encoded_ytest))\n",
    "knn= KNeighborsClassifier(n_neighbors=12)\n",
    "knn.fit(x_train,encoded_y)\n",
    "ypred4= knn.predict(x_test)\n",
    "knn_conf_matrix = confusion_matrix(encoded_ytest,ypred4 )\n",
    "knn_acc_score = accuracy_score(encoded_ytest, ypred4) \n",
    "print(\"K-nearest neighbour accuracy =\",knn_acc_score*100,\"%\") # Printing the accuracy\n",
    "print(knn_conf_matrix) # Printing the confusion matrix"
   ]
  },
  {
   "cell_type": "markdown",
   "metadata": {},
   "source": [
    "# SUPPORT VECTOR MACHINE ALGO"
   ]
  },
  {
   "cell_type": "code",
   "execution_count": null,
   "metadata": {},
   "outputs": [],
   "source": [
    "svm= svm.SVC()\n",
    "svm.fit(x_train,encoded_y)\n",
    "ypred5= svm.predict(x_test)\n",
    "svm_conf_matrix = confusion_matrix(encoded_ytest,ypred5)\n",
    "svm_acc_score = accuracy_score(encoded_ytest, ypred5)\n",
    "print(\"SVM accuracy =\",svm_acc_score*100,\"%\") # Printing the accuracy\n",
    "print(svm_conf_matrix) # Printing the confusion matrix"
   ]
  },
  {
   "cell_type": "markdown",
   "metadata": {},
   "source": [
    "# Accuracy in Table form "
   ]
  },
  {
   "cell_type": "code",
   "execution_count": null,
   "metadata": {},
   "outputs": [],
   "source": [
    "model_acc= pd.DataFrame({'Model' : ['Logistic Regression','Decision Tree','Random Forest','K Nearest Neighbor','SVM'],'Accuracy' : [lr_acc_score*100,tree_acc_score*100,rf_acc_score*100,knn_acc_score*100,svm_acc_score*100]})\n",
    "model_acc = model_acc.sort_values(by=['Accuracy'],ascending=False)\n",
    "print(model_acc)\n",
    "print(\"Most accurate model is Logistic Regression\")"
   ]
  }
 ],
 "metadata": {
  "kernelspec": {
   "display_name": "Python 3.10.6 64-bit",
   "language": "python",
   "name": "python3"
  },
  "language_info": {
   "name": "python",
   "version": "3.10.6"
  },
  "orig_nbformat": 4,
  "vscode": {
   "interpreter": {
    "hash": "a40807a947f9c109b0f1fefe4cc296efed023a366081b074d2fa75631cda25bc"
   }
  }
 },
 "nbformat": 4,
 "nbformat_minor": 2
}
